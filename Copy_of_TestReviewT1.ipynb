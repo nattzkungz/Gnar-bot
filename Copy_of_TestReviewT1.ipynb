{
  "nbformat": 4,
  "nbformat_minor": 0,
  "metadata": {
    "colab": {
      "name": "Copy of TestReviewT1.ipynb",
      "provenance": [],
      "authorship_tag": "ABX9TyPBoy6y05kGwA6fhBwELY89",
      "include_colab_link": true
    },
    "kernelspec": {
      "name": "python3",
      "display_name": "Python 3"
    }
  },
  "cells": [
    {
      "cell_type": "markdown",
      "metadata": {
        "id": "view-in-github",
        "colab_type": "text"
      },
      "source": [
        "<a href=\"https://colab.research.google.com/github/nattzkungz/Gnar-bot/blob/master/Copy_of_TestReviewT1.ipynb\" target=\"_parent\"><img src=\"https://colab.research.google.com/assets/colab-badge.svg\" alt=\"Open In Colab\"/></a>"
      ]
    },
    {
      "cell_type": "code",
      "metadata": {
        "id": "X-r7E7RecueG",
        "colab_type": "code",
        "colab": {}
      },
      "source": [
        "\"\"\"Test Review - Next time you are in class you will have a test\n",
        " on the work done over the last month.  In this class I will review\n",
        " some of the questions from previous weeks assignments because questions\n",
        " like them might be appearing in the in class test next week\"\"\""
      ],
      "execution_count": null,
      "outputs": []
    },
    {
      "cell_type": "code",
      "metadata": {
        "id": "m1-0H5JDc1qM",
        "colab_type": "code",
        "colab": {
          "base_uri": "https://localhost:8080/",
          "height": 85
        },
        "outputId": "0de8ee29-b9cc-45b4-a925-ac3f22838104"
      },
      "source": [
        "\"\"\"Python Review - Week 2 - Question 2\n",
        "\n",
        "Create a function that takes a string as an argument(input) and prints it once\n",
        "in full upper case then full lower case and prints how long the string is.\n",
        "Call the function twice.\n",
        "\n",
        "Check list: Can you do the following?\n",
        "\n",
        "Make a function\n",
        "Set up your function to take inputs\n",
        "Manipulate strings using .upper() and .lower()\n",
        "Calculate the length of a string\n",
        "Use/Call a function\n",
        "\n",
        "\"\"\"\n",
        "\n",
        "def uplow():\n",
        "  word = str(input(\"Type a word : \"))\n",
        "  print(word.lower())\n",
        "  print(word.upper())\n",
        "  print(\"word length : \" , len(word))\n",
        "uplow()"
      ],
      "execution_count": null,
      "outputs": [
        {
          "output_type": "stream",
          "text": [
            "Type a word : Hello world\n",
            "hello world\n",
            "HELLO WORLD\n",
            "word length :  11\n"
          ],
          "name": "stdout"
        }
      ]
    },
    {
      "cell_type": "code",
      "metadata": {
        "id": "DbAqxY5DdDJY",
        "colab_type": "code",
        "colab": {
          "base_uri": "https://localhost:8080/",
          "height": 136
        },
        "outputId": "ca5681b9-d8ec-483a-f345-b2749dcee4c0"
      },
      "source": [
        "\n",
        "\"\"\"Python Review - Week 3 - Question 3\n",
        "\n",
        "Create some code that will ask the user two questions three times.\n",
        "It should ask for an x co-ordinate and then ask for a y co-ordinate.\n",
        "Each pair of answers should be stored as a tuple and each tuple should\n",
        "be stored in a list.\n",
        "\n",
        "Check list: Can you do the following?\n",
        "\n",
        "Set up a For loop to loop a certain number of times\n",
        "Get inputs from the user\n",
        "Store inputs in variables\n",
        "Create tuple\n",
        "Create and store items in lists\n",
        "\n",
        "\"\"\"\n",
        "free = []\n",
        "for x in range(3):\n",
        "  a = int(input(\"enter x coordinates : \"))\n",
        "  b = int(input(\"enter y coordinates: \"))\n",
        "  for y in range(3):\n",
        "    free.append((a,b))\n",
        "print(free)"
      ],
      "execution_count": null,
      "outputs": [
        {
          "output_type": "stream",
          "text": [
            "enter x coordinates1\n",
            "enter y coordinates2\n",
            "enter x coordinates3\n",
            "enter y coordinates4\n",
            "enter x coordinates55\n",
            "enter y coordinates6\n",
            "[(1, 2), (1, 2), (1, 2), (3, 4), (3, 4), (3, 4), (55, 6), (55, 6), (55, 6)]\n"
          ],
          "name": "stdout"
        }
      ]
    },
    {
      "cell_type": "code",
      "metadata": {
        "id": "3mmumDDgePJ2",
        "colab_type": "code",
        "colab": {
          "base_uri": "https://localhost:8080/",
          "height": 68
        },
        "outputId": "ff3d494d-55be-440a-e3c2-de7614fe553b"
      },
      "source": [
        "\"\"\"Python Review - Week 3 - Question 4\n",
        "\n",
        "Write a guessing game where the user has to guess a pair of co-ordinates in the\n",
        "list created in the previous question.  Give them 3 tries to do it.  If they\n",
        "guess correctly print a message \"Hit! You win\" otherwise \"You lose\".\n",
        "\n",
        "Check list: Can you do the following?\n",
        "\n",
        "Create a while loop with appropiate controls\n",
        "Get inputs from users inside while inside a loop\n",
        "Create variables used for extra control of loop\n",
        "Change whille loops controls to include AND or OR\n",
        "\n",
        "\n",
        "\"\"\"\n",
        "\n",
        "for z in range(3):\n",
        "  aa = int(input(\"enter x coordinates : \"))\n",
        "  ab = int(input(\"enter y coordinates : \"))\n",
        "  if (aa,ab) in free:\n",
        "    print(\"hit you win\")\n",
        "    break\n",
        "  else:\n",
        "    print(\"You lose\")"
      ],
      "execution_count": null,
      "outputs": [
        {
          "output_type": "stream",
          "text": [
            "enter x coordinates55\n",
            "enter y coordinates6\n",
            "hit you win\n"
          ],
          "name": "stdout"
        }
      ]
    },
    {
      "cell_type": "code",
      "metadata": {
        "id": "MJk92_J8eoxA",
        "colab_type": "code",
        "colab": {
          "base_uri": "https://localhost:8080/",
          "height": 68
        },
        "outputId": "01da8df5-8495-4962-ea2a-45c6d5c6b96a"
      },
      "source": [
        "\"\"\"Python Review - Week 4 - Question 4\n",
        "\n",
        "Q4.  2:47:13 - Create a function that when given two numbers - a number of rows\n",
        "and a number of columns - will create a list of tuples that represent each\n",
        "co-ordinate in that table.  The function should use nested for loop to populate\n",
        "the list and a return statement to return the 2D array once it has been created.\n",
        "Create a variable, call the function to create a 10 by 10 table of co-ordinates\n",
        "list, assign the list to the variable and print the variable.\n",
        "\n",
        "Check list: Can you do the following?\n",
        "\n",
        "Create a nested for loop\n",
        "Understand how and when the variables change with each loop\n",
        "\n",
        "\"\"\"\n",
        "\n",
        "def loopp():\n",
        "    list = [] \n",
        "    xc = int(input(\"Enter row : \"))\n",
        "    yc = int(input(\"Enter coloumn : \"))\n",
        "    for x in range(xc+1):\n",
        "        for y in range(yc+1):\n",
        "            list.append((x,y))\n",
        "    print(list)\n",
        "loopp()"
      ],
      "execution_count": 2,
      "outputs": [
        {
          "output_type": "stream",
          "text": [
            "Enter row : 10\n",
            "Enter coloumn : 0\n",
            "[(0, 0), (1, 0), (2, 0), (3, 0), (4, 0), (5, 0), (6, 0), (7, 0), (8, 0), (9, 0), (10, 0)]\n"
          ],
          "name": "stdout"
        }
      ]
    },
    {
      "cell_type": "code",
      "metadata": {
        "id": "oVtsN6Uvjslx",
        "colab_type": "code",
        "colab": {}
      },
      "source": [
        ""
      ],
      "execution_count": null,
      "outputs": []
    }
  ]
}