{
  "nbformat": 4,
  "nbformat_minor": 0,
  "metadata": {
    "kernelspec": {
      "display_name": "Python 3",
      "language": "python",
      "name": "python3"
    },
    "language_info": {
      "codemirror_mode": {
        "name": "ipython",
        "version": 3
      },
      "file_extension": ".py",
      "mimetype": "text/x-python",
      "name": "python",
      "nbconvert_exporter": "python",
      "pygments_lexer": "ipython3",
      "version": "3.8.2"
    },
    "colab": {
      "name": "Python Review 2.ipynb",
      "provenance": [],
      "include_colab_link": true
    }
  },
  "cells": [
    {
      "cell_type": "markdown",
      "metadata": {
        "id": "view-in-github",
        "colab_type": "text"
      },
      "source": [
        "<a href=\"https://colab.research.google.com/github/nattzkungz/Gnar-bot/blob/master/Learning/Python/School/Python_Review_2.ipynb\" target=\"_parent\"><img src=\"https://colab.research.google.com/assets/colab-badge.svg\" alt=\"Open In Colab\"/></a>"
      ]
    },
    {
      "cell_type": "code",
      "metadata": {
        "id": "md1LWwSLwwEN",
        "colab_type": "code",
        "colab": {},
        "outputId": "d271e830-43b1-4d85-8ec5-d1743c8d9c7b"
      },
      "source": [
        "def question():\n",
        "    \n",
        "    name = str(input(\"What is your name? \"))\n",
        "    std_no = int(input(\"What is your student number? \"))\n",
        "    print(\"Hello, \", name, \"your student number is\", std_no)\n",
        "    name_conf = str(input(\"Is your name correct? \"))\n",
        "    \n",
        "    if name_conf.lower() == \"yes\":\n",
        "        print(\"Success\")\n",
        "    else:\n",
        "        print(\"Failure\")\n",
        "            \n",
        "\n",
        "        \n",
        "question()"
      ],
      "execution_count": null,
      "outputs": [
        {
          "output_type": "stream",
          "text": [
            "What is your name? Thanakrit\n",
            "What is your student number? 40872\n",
            "Hello,  Thanakrit your student number is 40872\n",
            "Is your name correct? YEs\n",
            "Success\n"
          ],
          "name": "stdout"
        }
      ]
    },
    {
      "cell_type": "code",
      "metadata": {
        "id": "L-Fx5VeDwwEa",
        "colab_type": "code",
        "colab": {},
        "outputId": "fd6f2e15-b00f-4300-ac0f-b4ce6b0f224c"
      },
      "source": [
        "def calculator():\n",
        "    #input the equation\n",
        "    eq_inpt = input(\"Equation : \")\n",
        "    #process equation above using eval (built in python function)\n",
        "    eq_prcs = eval(eq_inpt)\n",
        "    #round off answer to 2 decimals\n",
        "    print(\"Answer :\" ,format(round(eq_prcs,2)))\n",
        "\n",
        "#call function 2 times\n",
        "calculator()\n",
        "calculator()"
      ],
      "execution_count": null,
      "outputs": [
        {
          "output_type": "stream",
          "text": [
            "Equation : 33/7\n",
            "Answer : 4.71\n",
            "Equation : 99/32\n",
            "Answer : 3.09\n"
          ],
          "name": "stdout"
        }
      ]
    },
    {
      "cell_type": "code",
      "metadata": {
        "id": "NqNXcKBawwEh",
        "colab_type": "code",
        "colab": {},
        "outputId": "7e0ac7d6-2e5e-4b02-d869-e6a1071abd4f"
      },
      "source": [
        "#Ask for xy coordinates input and make them tuple by adding tuple() in front of input()\n",
        "#and store them in list\n",
        "print(\"Please enter x,y coordinates with no spaces or comma\")\n",
        "print(\"Example x,y coordinates (3,4) enter 34 into input space\")\n",
        "print(\"only digits less than 10 are allowed\")\n",
        "xy_coord1 = tuple(input(\"Input xy-coordinates : \"))\n",
        "xy_coord2 = tuple(input(\"Input xy-coordinates : \"))\n",
        "xy_coord3 = tuple(input(\"Input xy-coordinates : \"))\n",
        "\n",
        "tuple_in_list = [xy_coord1, xy_coord2, xy_coord3]\n",
        "#printout the list that have been created\n",
        "print(tuple_in_list)"
      ],
      "execution_count": null,
      "outputs": [
        {
          "output_type": "stream",
          "text": [
            "Please enter x,y coordinates with no spaces or comma\n",
            "Example x,y coordinates (3,4) enter 34 into input space\n",
            "only digits less than 10 are allowed\n",
            "Input xy-coordinates : 43\n",
            "Input xy-coordinates : 15\n",
            "Input xy-coordinates : 54\n",
            "[('4', '3'), ('1', '5'), ('5', '4')]\n"
          ],
          "name": "stdout"
        }
      ]
    },
    {
      "cell_type": "code",
      "metadata": {
        "id": "q38bv7pgwwEl",
        "colab_type": "code",
        "colab": {},
        "outputId": "e498c822-d001-4497-eca9-37a4fd4cc5d8"
      },
      "source": [
        "def guessing_game(tuple_in_list):\n",
        "    print(\"Please enter x,y coordinates with no spaces or comma\")\n",
        "    print(\"Example x,y coordinates (3,4) enter 34 into input space\")\n",
        "    print(\"only digits less than 10 are allowed\")\n",
        "    #call checking function 3 times \n",
        "    for x in range (3):\n",
        "        guess = tuple(input(\"Guess a xy-coordinate : \"))\n",
        "        if guess in tuple_in_list:\n",
        "            print(\"Hit! You win\")\n",
        "            break\n",
        "        else:\n",
        "            print(\"You lose\")\n",
        "\n",
        "\n",
        "guessing_game(tuple_in_list)"
      ],
      "execution_count": null,
      "outputs": [
        {
          "output_type": "stream",
          "text": [
            "Please enter x,y coordinates with no spaces or comma\n",
            "Example x,y coordinates (3,4) enter 34 into input space\n",
            "only digits less than 10 are allowed\n",
            "Guess a xy-coordinate : 98\n",
            "You lose\n",
            "Guess a xy-coordinate : 23\n",
            "You lose\n",
            "Guess a xy-coordinate : 15\n",
            "Hit! You win\n"
          ],
          "name": "stdout"
        }
      ]
    },
    {
      "cell_type": "code",
      "metadata": {
        "id": "iMvkb2QPwwEr",
        "colab_type": "code",
        "colab": {}
      },
      "source": [
        ""
      ],
      "execution_count": null,
      "outputs": []
    }
  ]
}