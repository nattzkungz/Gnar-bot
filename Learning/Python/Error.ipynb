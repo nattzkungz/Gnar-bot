{
  "nbformat": 4,
  "nbformat_minor": 0,
  "metadata": {
    "colab": {
      "name": "Error.ipynb",
      "provenance": [],
      "authorship_tag": "ABX9TyPTNZVZJpsxMrWiBKfCdC37",
      "include_colab_link": true
    },
    "kernelspec": {
      "name": "python3",
      "display_name": "Python 3"
    }
  },
  "cells": [
    {
      "cell_type": "markdown",
      "metadata": {
        "id": "view-in-github",
        "colab_type": "text"
      },
      "source": [
        "<a href=\"https://colab.research.google.com/github/nattzkungz/Gnar-bot/blob/master/Learning/Python/Error.ipynb\" target=\"_parent\"><img src=\"https://colab.research.google.com/assets/colab-badge.svg\" alt=\"Open In Colab\"/></a>"
      ]
    },
    {
      "cell_type": "code",
      "metadata": {
        "id": "DgDHhfLDKPs7",
        "colab_type": "code",
        "colab": {
          "base_uri": "https://localhost:8080/",
          "height": 68
        },
        "outputId": "fc28c30a-e166-4a9b-b207-442ede2f15e3"
      },
      "source": [
        "\"\"\"\n",
        "Task 1 - Use two input commands to get two integers from the user.  Then divide the\n",
        "first number by the second and print the result.\"\"\"\n",
        "\n",
        "def task1():\n",
        "  int1 = int(input(\"enter a number : \"))\n",
        "  int2 = int(input(\"enter second number : \"))\n",
        "  print(int1/int2)\n",
        "task1()"
      ],
      "execution_count": 1,
      "outputs": [
        {
          "output_type": "stream",
          "text": [
            "enter a number : 5\n",
            "enter second number : 7\n",
            "0.7142857142857143\n"
          ],
          "name": "stdout"
        }
      ]
    },
    {
      "cell_type": "code",
      "metadata": {
        "id": "CEBAAIKXKmBW",
        "colab_type": "code",
        "colab": {
          "base_uri": "https://localhost:8080/",
          "height": 170
        },
        "outputId": "1e336b92-def7-469e-d738-c05490b75289"
      },
      "source": [
        "\"\"\"Task 2 - Add the lines of code from task 1 into a try: block then create\n",
        "two execept blocks.  One to handle an invalid input the other to handle when a number\n",
        "is divided by zero.\"\"\"\n",
        "\n",
        "def task2():\n",
        "  x = 1\n",
        "  while x+1 > x: #To keep asking until they got correct format\n",
        "    try:\n",
        "      int1 = int(input(\"enter a number : \"))\n",
        "      int2 = int(input(\"enter second number : \"))\n",
        "      print(int1/int2)\n",
        "      break\n",
        "    except ValueError:\n",
        "      print(\"Enter integer\")\n",
        "    except ZeroDivisionError:\n",
        "      print(\"Dont enter second number 0\")\n",
        "task2()\n"
      ],
      "execution_count": 2,
      "outputs": [
        {
          "output_type": "stream",
          "text": [
            "enter a number : 8\n",
            "enter second number : a\n",
            "Enter integer\n",
            "enter a number : 7\n",
            "enter second number : a\n",
            "Enter integer\n",
            "enter a number : 1\n",
            "enter second number : 2\n",
            "0.5\n"
          ],
          "name": "stdout"
        }
      ]
    },
    {
      "cell_type": "code",
      "metadata": {
        "id": "53xs8i-cLoZw",
        "colab_type": "code",
        "colab": {
          "base_uri": "https://localhost:8080/",
          "height": 102
        },
        "outputId": "52672448-60c8-44e1-fce6-9bd45cee1eb5"
      },
      "source": [
        "\"\"\"Task 3 - Create a dictionary of three shop items and stock level. Example  \"Pen\" : 3\n",
        "The key is the name of the item and the value is the stock level.  Then create a function\n",
        "that takes as arguements (inputs) a dictionary and an item name.  The function will add\n",
        "one to the stock level for the item.  Example: myfunc(dict1 , \"Pen\") will increase stock\n",
        "level of Pen by one in my dictionary.\n",
        "\"\"\"\n",
        "#This function is just for fun\n",
        "#Its the adding item function\n",
        "shop_dict = {\"pen\" : 3, \"eraser\" : 5, \"pencil\" : 7}\n",
        "def dict_add_item():\n",
        "  item_add = int(input(\"How many item you want to add : \"))\n",
        "  for x in range (item_add):\n",
        "    item_input = str(input(\"Enter an item name : \"))\n",
        "    stock_input = int(input(\"Enter its quantity in stock : \"))\n",
        "    shop_dict[item_input.lower()] = stock_input\n",
        "    print(shop_dict)\n",
        "    return\n",
        "#dict_add_item()\n",
        "\n",
        "#task 3 function is here\n",
        "#.lower() to prevent error that caused by Uppercase letter\n",
        "def dict_modify_value():\n",
        "  print(shop_dict)\n",
        "  item_edit = int(input(\"How many item quantity you want to modify : \"))\n",
        "  for y in range(item_edit):\n",
        "    item_select = str(input(\"Select an item to update its stock : \"))\n",
        "    stock_update = int(input(\"Update stock by : \"))\n",
        "    shop_dict[item_select.lower()] += stock_update\n",
        "    print(shop_dict)\n",
        "  return\n",
        "dict_modify_value()"
      ],
      "execution_count": 3,
      "outputs": [
        {
          "output_type": "stream",
          "text": [
            "{'pen': 3, 'eraser': 5, 'pencil': 7}\n",
            "How many item quantity you want to modify : 1\n",
            "Select an item to update its stock : PeN\n",
            "Update stock by : 2\n",
            "{'pen': 5, 'eraser': 5, 'pencil': 7}\n"
          ],
          "name": "stdout"
        }
      ]
    },
    {
      "cell_type": "code",
      "metadata": {
        "id": "f3-AC2RUPXF1",
        "colab_type": "code",
        "colab": {
          "base_uri": "https://localhost:8080/",
          "height": 119
        },
        "outputId": "e6c46104-2cbb-463c-8210-1d817d0effbe"
      },
      "source": [
        "\"\"\"Task 4 - Try calling the function with a item that is not in your dictionary and pay attention\n",
        "to the error message. What type of error is it?\n",
        "\n",
        "Add a try: block to your function and also an except block that handles the error message you discovered.\n",
        "If the error is caused - add the item to the dictionary and set the stock level to 1. Also print a message\n",
        "to say the item was added to the dictionary.\n",
        "\n",
        "Call the function with an item that is not in your dictionary\n",
        "\n",
        "Check it works by printing out the whole dictioanry.\n",
        "\n",
        "\"\"\"\n",
        "print(shop_dict)\n",
        "def error_test():\n",
        "  try:\n",
        "    item_edit = int(input(\"How many item quantity you want to modify : \")) #Have user select how many item they wants to modify\n",
        "    for y in range(item_edit): #Ask user how many items they want to update and use for-loop to achieve it\n",
        "      item_select = str(input(\"Select an item to update its stock : \"))\n",
        "      stock_update = int(input(\"Update stock by : \"))\n",
        "      shop_dict[item_select.lower()] += stock_update\n",
        "      print(shop_dict)\n",
        "    return\n",
        "  except KeyError:\n",
        "    shop_dict[item_select.lower()] = 1\n",
        "    print(\"The item is added to the dictionary but with valued 1\")\n",
        "error_test()\n",
        "print(shop_dict)"
      ],
      "execution_count": 5,
      "outputs": [
        {
          "output_type": "stream",
          "text": [
            "{'pen': 5, 'eraser': 5, 'pencil': 7}\n",
            "How many item quantity you want to modify : 1\n",
            "Select an item to update its stock : Paper\n",
            "Update stock by : 99\n",
            "The item is added to the dictionary but with valued 1\n",
            "{'pen': 5, 'eraser': 5, 'pencil': 7, 'paper': 1}\n"
          ],
          "name": "stdout"
        }
      ]
    },
    {
      "cell_type": "code",
      "metadata": {
        "id": "2heJ7SJpXhqE",
        "colab_type": "code",
        "colab": {}
      },
      "source": [
        ""
      ],
      "execution_count": null,
      "outputs": []
    }
  ]
}