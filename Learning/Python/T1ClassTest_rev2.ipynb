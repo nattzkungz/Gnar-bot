{
  "nbformat": 4,
  "nbformat_minor": 0,
  "metadata": {
    "colab": {
      "name": "T1ClassTest.ipynb",
      "provenance": [],
      "collapsed_sections": [],
      "authorship_tag": "ABX9TyN3G0tjsZwcI5vwt34qYMBC",
      "include_colab_link": true
    },
    "kernelspec": {
      "name": "python3",
      "display_name": "Python 3"
    }
  },
  "cells": [
    {
      "cell_type": "markdown",
      "metadata": {
        "id": "view-in-github",
        "colab_type": "text"
      },
      "source": [
        "<a href=\"https://colab.research.google.com/github/nattzkungz/Gnar-bot/blob/master/Learning/Python/T1ClassTest_rev2.ipynb\" target=\"_parent\"><img src=\"https://colab.research.google.com/assets/colab-badge.svg\" alt=\"Open In Colab\"/></a>"
      ]
    },
    {
      "cell_type": "code",
      "metadata": {
        "id": "TZzCaiaIfBR4",
        "colab_type": "code",
        "colab": {
          "base_uri": "https://localhost:8080/",
          "height": 119
        },
        "outputId": "9d0a0e71-e619-4a39-af6e-3e31767e688e"
      },
      "source": [
        "\"\"\"Question 1\n",
        "\n",
        "Create a function that takes a string.  It will convert it completely to uppercase, print it and\n",
        "then tell you (print message) if it is a long string (10 or longer characters) or a short string\n",
        "(less than 10 characters). Call it twice to produce both responses.\n",
        "\"\"\"\n",
        "\n",
        "def question1():\n",
        "  input1 = input(str(\"Please enter a word : \"))\n",
        "  print(\"word in uppercase letter : \", input1.upper())\n",
        "  if len(input1) < 10:\n",
        "    print(\"This is a short string\")\n",
        "  else:\n",
        "    print(\"This is a long string\")\n",
        "question1()\n",
        "question1()"
      ],
      "execution_count": 31,
      "outputs": [
        {
          "output_type": "stream",
          "text": [
            "Please enter a word : hello\n",
            "word in uppercase letter :  HELLO\n",
            "This is a short string\n",
            "Please enter a word : hello world\n",
            "word in uppercase letter :  HELLO WORLD\n",
            "This is a long string\n"
          ],
          "name": "stdout"
        }
      ]
    },
    {
      "cell_type": "code",
      "metadata": {
        "id": "X1KaCcXVfeYo",
        "colab_type": "code",
        "colab": {
          "base_uri": "https://localhost:8080/",
          "height": 170
        },
        "outputId": "b7b74f2a-d25b-466d-aaf3-3095cadab371"
      },
      "source": [
        "\"\"\"Question 2 -\n",
        "\n",
        "Create a for loop ask the user two questions four times. Q1 - Enter student ID number, Q2 - Enter\n",
        "student name. Store the answers in a dictionary.  Google how to append/update a dictionary. The student ID\n",
        "should be the key (also an integer) and the name is the value. After the loop has finished print the dictionary. \"\"\"\n",
        "\n",
        "std_dict = {}\n",
        "for x in range (2):\n",
        "  for y in range (2):\n",
        "    input2 = int(input(\"Enter your student number : \"))\n",
        "    input3 = input(str(\"Enter your name : \"))\n",
        "    std_dict.update({input2:input3})\n",
        "print(std_dict)"
      ],
      "execution_count": 19,
      "outputs": [
        {
          "output_type": "stream",
          "text": [
            "Enter your student number : 40872\n",
            "Enter your name : Thanakrit\n",
            "Enter your student number : 40224\n",
            "Enter your name : Dhanakorn\n",
            "Enter your student number : 12345\n",
            "Enter your name : Teacher\n",
            "Enter your student number : 54321\n",
            "Enter your name : Test\n",
            "{40872: 'Thanakrit', 40224: 'Dhanakorn', 12345: 'Teacher', 54321: 'Test'}\n"
          ],
          "name": "stdout"
        }
      ]
    },
    {
      "cell_type": "code",
      "metadata": {
        "id": "yKjpowUsgdHe",
        "colab_type": "code",
        "colab": {
          "base_uri": "https://localhost:8080/",
          "height": 187
        },
        "outputId": "6b6c0965-cbf5-4541-8bd0-14234e4c8db8"
      },
      "source": [
        "\"\"\"Question 3 -\n",
        "\n",
        "Create a loop that repeatedly asks the user to enter a student ID.  If the ID is found (in dictionary from before)\n",
        "print the value attached to it. If not tell them the student ID does not exist and ask them again.  If they try 3 times\n",
        "and fail (does not have to be 3 fails in a row), exit the loop and inform them they have failed.  This is\n",
        "quite different to the guessing game.  You might also need to google how to check if a key is in a dictionary and\n",
        "how to get a value from a dictionary\"\"\"\n",
        "\n",
        "def question3(std_dict):\n",
        "  i = 0\n",
        "  for x in range (3):\n",
        "    i += 1\n",
        "    input4 = int(input(\"Guess a student ID : \"))\n",
        "    if input4 in std_dict:\n",
        "      print(input4,\":\" , std_dict[input4])\n",
        "      break\n",
        "    else:\n",
        "      print(\"The student ID does not exist\")\n",
        "  if i == 3:\n",
        "    print(\"You have failed\")\n",
        "  else:\n",
        "    print(\"Congratulations, you win\")\n",
        "question3(std_dict)\n",
        "question3(std_dict)"
      ],
      "execution_count": 43,
      "outputs": [
        {
          "output_type": "stream",
          "text": [
            "Guess a student ID : 40872\n",
            "40872 : Thanakrit\n",
            "Congratulations, you win\n",
            "Guess a student ID : 1\n",
            "The student ID does not exist\n",
            "Guess a student ID : 1\n",
            "The student ID does not exist\n",
            "Guess a student ID : 1\n",
            "The student ID does not exist\n",
            "You have failed\n"
          ],
          "name": "stdout"
        }
      ]
    },
    {
      "cell_type": "code",
      "metadata": {
        "id": "akh6gPSyhuno",
        "colab_type": "code",
        "colab": {
          "base_uri": "https://localhost:8080/",
          "height": 68
        },
        "outputId": "a6c6b015-7f49-4aa3-f9b9-b1b88a9f5a26"
      },
      "source": [
        "\"\"\"Question 4 -\n",
        "Create a function that takes two numbers and uses a nested loop to create a list of lists.  The lists being stored in the list\n",
        "should contain 3 bits of data - an x coordinate, a y coordinate and the string \"Empty\" - Example [1,2,\"Empty\"] .\n",
        "The function should create all possible combinations of x and y determined by the inputs given to the fuction.\n",
        "\n",
        "Example: myFunction(2,2) makes a list [ [0,0,\"Empty\"] , [0,1,\"Empty\"] , [1,0,\"Empty\"] , [1,1,\"Empty] ]\n",
        "\n",
        "The function should return the list it has created.  Call the function once with 3,3 and print the resulting list showing function works.\n",
        "\"\"\"\n",
        "\n",
        "def question4():\n",
        "  x_input = int(input(\"Input x coordinates : \"))\n",
        "  y_input = int(input(\"Input y coordinates : \"))\n",
        "  coord_list = []\n",
        "  for x in range (x_input):\n",
        "    for y in range (y_input):\n",
        "      coord_list.append([x,y,\"Empty\"])\n",
        "  print(coord_list)\n",
        "question4()"
      ],
      "execution_count": 13,
      "outputs": [
        {
          "output_type": "stream",
          "text": [
            "Input x coordinates : 2\n",
            "Input y coordinates : 2\n",
            "[[0, 0, 'Empty'], [0, 1, 'Empty'], [1, 0, 'Empty'], [1, 1, 'Empty']]\n"
          ],
          "name": "stdout"
        }
      ]
    },
    {
      "cell_type": "code",
      "metadata": {
        "id": "2bQkNZAShw0m",
        "colab_type": "code",
        "colab": {}
      },
      "source": [
        ""
      ],
      "execution_count": 10,
      "outputs": []
    }
  ]
}